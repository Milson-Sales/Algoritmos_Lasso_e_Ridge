{
  "nbformat": 4,
  "nbformat_minor": 0,
  "metadata": {
    "colab": {
      "provenance": [],
      "collapsed_sections": []
    },
    "kernelspec": {
      "name": "python3",
      "display_name": "Python 3"
    },
    "language_info": {
      "name": "python"
    }
  },
  "cells": [
    {
      "cell_type": "markdown",
      "source": [
        "![](https://cienciadosdados.com/images/2022/09/esquenta_-_Bootcamp_CDP.png)"
      ],
      "metadata": {
        "id": "MKeMAfLi8Cjt"
      }
    },
    {
      "cell_type": "markdown",
      "metadata": {
        "id": "4MdjIxy7sLfX"
      },
      "source": [
        "# <font color='blue'> 6#21 Dias - Esquenta para o Bootcamp CDP </font>\n"
      ]
    },
    {
      "cell_type": "markdown",
      "metadata": {
        "id": "1fziHl7Ar94J"
      },
      "source": [
        "#<font color= green> Ridge e Lasso"
      ]
    },
    {
      "cell_type": "markdown",
      "source": [
        "![](https://editor.analyticsvidhya.com/uploads/20790High%20Bias.gif)"
      ],
      "metadata": {
        "id": "HxXT7XFZ-AoP"
      }
    },
    {
      "cell_type": "markdown",
      "source": [
        "![](https://editor.analyticsvidhya.com/uploads/78921images.png)"
      ],
      "metadata": {
        "id": "O-w0EYwl-iMP"
      }
    },
    {
      "cell_type": "markdown",
      "source": [
        "![](https://editor.analyticsvidhya.com/uploads/76193image5.png)"
      ],
      "metadata": {
        "id": "7YHj18nk-nr_"
      }
    },
    {
      "cell_type": "markdown",
      "source": [
        "![](https://editor.analyticsvidhya.com/uploads/94165error_testing.jpg)"
      ],
      "metadata": {
        "id": "H-ip7azu-Z8a"
      }
    },
    {
      "cell_type": "markdown",
      "source": [
        "# **Regularização de Lasso e Ridge – Combatendo o overfitting**"
      ],
      "metadata": {
        "id": "GvuAuOL69xFu"
      }
    },
    {
      "cell_type": "markdown",
      "source": [
        "![](https://editor.analyticsvidhya.com/uploads/71199regularization.jpg)"
      ],
      "metadata": {
        "id": "Yz1kwm09-t_I"
      }
    },
    {
      "cell_type": "markdown",
      "source": [
        "A regularização funciona adicionando um termo de penalidade ou complexidade ou termo de encolhimento com Residual Sum of Squares (RSS) ao modelo complexo."
      ],
      "metadata": {
        "id": "BXTtqQyr9rWQ"
      }
    },
    {
      "cell_type": "markdown",
      "source": [
        "![](https://editor.analyticsvidhya.com/uploads/99198balanced%20model.png)"
      ],
      "metadata": {
        "id": "ZB8dLiL3BDdL"
      }
    },
    {
      "cell_type": "markdown",
      "source": [
        "![](https://editor.analyticsvidhya.com/uploads/769441.jpg)"
      ],
      "metadata": {
        "id": "sUejjtMd-3BS"
      }
    },
    {
      "cell_type": "markdown",
      "source": [
        "![](https://editor.analyticsvidhya.com/uploads/3017422.jpg)"
      ],
      "metadata": {
        "id": "emUcQUWW-428"
      }
    },
    {
      "cell_type": "markdown",
      "source": [
        "# **Na Prática**"
      ],
      "metadata": {
        "id": "IIqDtZzoB8_T"
      }
    },
    {
      "cell_type": "code",
      "source": [
        "#Regularization Using Python in Machine Learning\n",
        "\n",
        "import numpy as np\n",
        "import pandas as pd\n",
        "import matplotlib.pyplot as plt\n",
        "%matplotlib inline\n",
        "import seaborn as sns\n",
        "\n",
        "df = pd.read_csv(\"/content/advertise.txt\")\n",
        "df"
      ],
      "metadata": {
        "id": "OYamVd0m6gE0",
        "colab": {
          "base_uri": "https://localhost:8080/",
          "height": 424
        },
        "outputId": "dea5ad65-acad-4b39-b0d3-6bc19826e24d"
      },
      "execution_count": 23,
      "outputs": [
        {
          "output_type": "execute_result",
          "data": {
            "text/plain": [
              "        TV  Radio  Newspaper  Sales\n",
              "0    230.1   37.8       69.2   22.1\n",
              "1     44.5   39.3       45.1   10.4\n",
              "2     17.2   45.9       69.3   12.0\n",
              "3    151.5   41.3       58.5   16.5\n",
              "4    180.8   10.8       58.4   17.9\n",
              "..     ...    ...        ...    ...\n",
              "195   38.2    3.7       13.8    7.6\n",
              "196   94.2    4.9        8.1   14.0\n",
              "197  177.0    9.3        6.4   14.8\n",
              "198  283.6   42.0       66.2   25.5\n",
              "199  232.1    8.6        8.7   18.4\n",
              "\n",
              "[200 rows x 4 columns]"
            ],
            "text/html": [
              "\n",
              "  <div id=\"df-50430340-d859-4ee2-a103-7ab96c2141c1\">\n",
              "    <div class=\"colab-df-container\">\n",
              "      <div>\n",
              "<style scoped>\n",
              "    .dataframe tbody tr th:only-of-type {\n",
              "        vertical-align: middle;\n",
              "    }\n",
              "\n",
              "    .dataframe tbody tr th {\n",
              "        vertical-align: top;\n",
              "    }\n",
              "\n",
              "    .dataframe thead th {\n",
              "        text-align: right;\n",
              "    }\n",
              "</style>\n",
              "<table border=\"1\" class=\"dataframe\">\n",
              "  <thead>\n",
              "    <tr style=\"text-align: right;\">\n",
              "      <th></th>\n",
              "      <th>TV</th>\n",
              "      <th>Radio</th>\n",
              "      <th>Newspaper</th>\n",
              "      <th>Sales</th>\n",
              "    </tr>\n",
              "  </thead>\n",
              "  <tbody>\n",
              "    <tr>\n",
              "      <th>0</th>\n",
              "      <td>230.1</td>\n",
              "      <td>37.8</td>\n",
              "      <td>69.2</td>\n",
              "      <td>22.1</td>\n",
              "    </tr>\n",
              "    <tr>\n",
              "      <th>1</th>\n",
              "      <td>44.5</td>\n",
              "      <td>39.3</td>\n",
              "      <td>45.1</td>\n",
              "      <td>10.4</td>\n",
              "    </tr>\n",
              "    <tr>\n",
              "      <th>2</th>\n",
              "      <td>17.2</td>\n",
              "      <td>45.9</td>\n",
              "      <td>69.3</td>\n",
              "      <td>12.0</td>\n",
              "    </tr>\n",
              "    <tr>\n",
              "      <th>3</th>\n",
              "      <td>151.5</td>\n",
              "      <td>41.3</td>\n",
              "      <td>58.5</td>\n",
              "      <td>16.5</td>\n",
              "    </tr>\n",
              "    <tr>\n",
              "      <th>4</th>\n",
              "      <td>180.8</td>\n",
              "      <td>10.8</td>\n",
              "      <td>58.4</td>\n",
              "      <td>17.9</td>\n",
              "    </tr>\n",
              "    <tr>\n",
              "      <th>...</th>\n",
              "      <td>...</td>\n",
              "      <td>...</td>\n",
              "      <td>...</td>\n",
              "      <td>...</td>\n",
              "    </tr>\n",
              "    <tr>\n",
              "      <th>195</th>\n",
              "      <td>38.2</td>\n",
              "      <td>3.7</td>\n",
              "      <td>13.8</td>\n",
              "      <td>7.6</td>\n",
              "    </tr>\n",
              "    <tr>\n",
              "      <th>196</th>\n",
              "      <td>94.2</td>\n",
              "      <td>4.9</td>\n",
              "      <td>8.1</td>\n",
              "      <td>14.0</td>\n",
              "    </tr>\n",
              "    <tr>\n",
              "      <th>197</th>\n",
              "      <td>177.0</td>\n",
              "      <td>9.3</td>\n",
              "      <td>6.4</td>\n",
              "      <td>14.8</td>\n",
              "    </tr>\n",
              "    <tr>\n",
              "      <th>198</th>\n",
              "      <td>283.6</td>\n",
              "      <td>42.0</td>\n",
              "      <td>66.2</td>\n",
              "      <td>25.5</td>\n",
              "    </tr>\n",
              "    <tr>\n",
              "      <th>199</th>\n",
              "      <td>232.1</td>\n",
              "      <td>8.6</td>\n",
              "      <td>8.7</td>\n",
              "      <td>18.4</td>\n",
              "    </tr>\n",
              "  </tbody>\n",
              "</table>\n",
              "<p>200 rows × 4 columns</p>\n",
              "</div>\n",
              "      <button class=\"colab-df-convert\" onclick=\"convertToInteractive('df-50430340-d859-4ee2-a103-7ab96c2141c1')\"\n",
              "              title=\"Convert this dataframe to an interactive table.\"\n",
              "              style=\"display:none;\">\n",
              "        \n",
              "  <svg xmlns=\"http://www.w3.org/2000/svg\" height=\"24px\"viewBox=\"0 0 24 24\"\n",
              "       width=\"24px\">\n",
              "    <path d=\"M0 0h24v24H0V0z\" fill=\"none\"/>\n",
              "    <path d=\"M18.56 5.44l.94 2.06.94-2.06 2.06-.94-2.06-.94-.94-2.06-.94 2.06-2.06.94zm-11 1L8.5 8.5l.94-2.06 2.06-.94-2.06-.94L8.5 2.5l-.94 2.06-2.06.94zm10 10l.94 2.06.94-2.06 2.06-.94-2.06-.94-.94-2.06-.94 2.06-2.06.94z\"/><path d=\"M17.41 7.96l-1.37-1.37c-.4-.4-.92-.59-1.43-.59-.52 0-1.04.2-1.43.59L10.3 9.45l-7.72 7.72c-.78.78-.78 2.05 0 2.83L4 21.41c.39.39.9.59 1.41.59.51 0 1.02-.2 1.41-.59l7.78-7.78 2.81-2.81c.8-.78.8-2.07 0-2.86zM5.41 20L4 18.59l7.72-7.72 1.47 1.35L5.41 20z\"/>\n",
              "  </svg>\n",
              "      </button>\n",
              "      \n",
              "  <style>\n",
              "    .colab-df-container {\n",
              "      display:flex;\n",
              "      flex-wrap:wrap;\n",
              "      gap: 12px;\n",
              "    }\n",
              "\n",
              "    .colab-df-convert {\n",
              "      background-color: #E8F0FE;\n",
              "      border: none;\n",
              "      border-radius: 50%;\n",
              "      cursor: pointer;\n",
              "      display: none;\n",
              "      fill: #1967D2;\n",
              "      height: 32px;\n",
              "      padding: 0 0 0 0;\n",
              "      width: 32px;\n",
              "    }\n",
              "\n",
              "    .colab-df-convert:hover {\n",
              "      background-color: #E2EBFA;\n",
              "      box-shadow: 0px 1px 2px rgba(60, 64, 67, 0.3), 0px 1px 3px 1px rgba(60, 64, 67, 0.15);\n",
              "      fill: #174EA6;\n",
              "    }\n",
              "\n",
              "    [theme=dark] .colab-df-convert {\n",
              "      background-color: #3B4455;\n",
              "      fill: #D2E3FC;\n",
              "    }\n",
              "\n",
              "    [theme=dark] .colab-df-convert:hover {\n",
              "      background-color: #434B5C;\n",
              "      box-shadow: 0px 1px 3px 1px rgba(0, 0, 0, 0.15);\n",
              "      filter: drop-shadow(0px 1px 2px rgba(0, 0, 0, 0.3));\n",
              "      fill: #FFFFFF;\n",
              "    }\n",
              "  </style>\n",
              "\n",
              "      <script>\n",
              "        const buttonEl =\n",
              "          document.querySelector('#df-50430340-d859-4ee2-a103-7ab96c2141c1 button.colab-df-convert');\n",
              "        buttonEl.style.display =\n",
              "          google.colab.kernel.accessAllowed ? 'block' : 'none';\n",
              "\n",
              "        async function convertToInteractive(key) {\n",
              "          const element = document.querySelector('#df-50430340-d859-4ee2-a103-7ab96c2141c1');\n",
              "          const dataTable =\n",
              "            await google.colab.kernel.invokeFunction('convertToInteractive',\n",
              "                                                     [key], {});\n",
              "          if (!dataTable) return;\n",
              "\n",
              "          const docLinkHtml = 'Like what you see? Visit the ' +\n",
              "            '<a target=\"_blank\" href=https://colab.research.google.com/notebooks/data_table.ipynb>data table notebook</a>'\n",
              "            + ' to learn more about interactive tables.';\n",
              "          element.innerHTML = '';\n",
              "          dataTable['output_type'] = 'display_data';\n",
              "          await google.colab.output.renderOutput(dataTable, element);\n",
              "          const docLink = document.createElement('div');\n",
              "          docLink.innerHTML = docLinkHtml;\n",
              "          element.appendChild(docLink);\n",
              "        }\n",
              "      </script>\n",
              "    </div>\n",
              "  </div>\n",
              "  "
            ]
          },
          "metadata": {},
          "execution_count": 23
        }
      ]
    },
    {
      "cell_type": "markdown",
      "source": [
        "# Fase 3 do Pipeline da Ciência de Dados - Pré-Processamento de Dados"
      ],
      "metadata": {
        "id": "0NwzRq6XqJ7o"
      }
    },
    {
      "cell_type": "code",
      "source": [
        "#Import da Biblioteca mãe de ML\n",
        "from sklearn.model_selection import train_test_split\n",
        "\n",
        "#Separação do Target das Variáveis Explicativas\n",
        "X = df[[\"TV\", \"Radio\", \"Newspaper\"]]\n",
        "y = df[\"Sales\"]\n",
        "\n",
        "# Aplico Estatística para separar as amostras\n",
        "X_train, X_test, y_train, y_test = train_test_split(X, y, test_size = 0.3, random_state = 42)\n",
        "print(X_train.shape, X_test.shape)"
      ],
      "metadata": {
        "colab": {
          "base_uri": "https://localhost:8080/"
        },
        "id": "ewFW6HSh7Ctq",
        "outputId": "d68351aa-6345-4761-d98c-e219915ad1ad"
      },
      "execution_count": 24,
      "outputs": [
        {
          "output_type": "stream",
          "name": "stdout",
          "text": [
            "(140, 3) (60, 3)\n"
          ]
        }
      ]
    },
    {
      "cell_type": "markdown",
      "source": [
        "## RIDGE"
      ],
      "metadata": {
        "id": "7_FVEgrw7qXL"
      }
    },
    {
      "cell_type": "code",
      "source": [
        "\n",
        "from sklearn.linear_model import Ridge\n",
        "ridge_model = Ridge(alpha = 10)\n",
        "\n",
        "ridge_model.fit(X_train, y_train)\n",
        "\n",
        "test_predictions = ridge_model.predict(X_test)\n",
        "train_predictions = ridge_model.predict(X_train)\n",
        "\n",
        "from sklearn.metrics import mean_squared_error\n",
        "\n",
        "train_rmse = np.sqrt(mean_squared_error(y_test, test_predictions))\n",
        "test_rmse = np.sqrt(mean_squared_error(y_train, train_predictions))\n",
        "print(\"train RMSE:\", train_rmse)\n",
        "print(\"test RMSE:\", test_rmse)"
      ],
      "metadata": {
        "colab": {
          "base_uri": "https://localhost:8080/"
        },
        "id": "cH0d4Pg17CwI",
        "outputId": "1e2d50df-d98d-432e-84e4-79e0fc129eb1"
      },
      "execution_count": 30,
      "outputs": [
        {
          "output_type": "stream",
          "name": "stdout",
          "text": [
            "train RMSE: 1.59431329331366\n",
            "test RMSE: 1.685002355312228\n"
          ]
        }
      ]
    },
    {
      "cell_type": "code",
      "source": [
        "from sklearn.model_selection import GridSearchCV\n",
        "estimator = Ridge()\n",
        "param_grid = {\"alpha\":list(range(1,11))}\n",
        "model_hp = GridSearchCV(estimator, param_grid, cv = 5)\n",
        "model_hp.fit(X_train, y_train)\n",
        "model_hp.best_params_"
      ],
      "metadata": {
        "colab": {
          "base_uri": "https://localhost:8080/"
        },
        "id": "KzRXO4l17lOt",
        "outputId": "21c71299-206b-4144-e65d-356b9e076580"
      },
      "execution_count": 29,
      "outputs": [
        {
          "output_type": "execute_result",
          "data": {
            "text/plain": [
              "{'alpha': 10}"
            ]
          },
          "metadata": {},
          "execution_count": 29
        }
      ]
    },
    {
      "cell_type": "markdown",
      "source": [
        "## LASSO"
      ],
      "metadata": {
        "id": "xK3g2-nv7sA2"
      }
    },
    {
      "cell_type": "code",
      "source": [
        "from sklearn.linear_model import Lasso\n",
        "lasso_model = Lasso()\n",
        "lasso_model.fit(X_train, y_train)\n",
        "\n",
        "test_predictions = lasso_model.predict(X_test)\n",
        "train_predictions = lasso_model.predict(X_train)\n",
        "\n",
        "from sklearn.metrics import mean_squared_error\n",
        "train_rmse = np.sqrt(mean_squared_error(y_test, test_predictions))\n",
        "test_rmse = np.sqrt(mean_squared_error(y_train, train_predictions))\n",
        "print(\"train RMSE:\", train_rmse)\n",
        "print(\"test RMSE:\", test_rmse)\n",
        "\n"
      ],
      "metadata": {
        "id": "nGRFUh6O7wkt",
        "colab": {
          "base_uri": "https://localhost:8080/"
        },
        "outputId": "86e10495-7d01-4195-d03f-6a8914df5491"
      },
      "execution_count": 37,
      "outputs": [
        {
          "output_type": "stream",
          "name": "stdout",
          "text": [
            "train RMSE: 1.5903008459656902\n",
            "test RMSE: 1.6866227172174735\n"
          ]
        }
      ]
    },
    {
      "cell_type": "code",
      "source": [
        "from sklearn.model_selection import GridSearchCV\n",
        "estimator = Lasso(alpha = 1)\n",
        "param_grid = {\"alpha\":list(range(1,11))}\n",
        "model_hp = GridSearchCV(estimator, param_grid, cv = 5)\n",
        "model_hp.fit(X_train, y_train)\n",
        "model_hp.best_params_"
      ],
      "metadata": {
        "colab": {
          "base_uri": "https://localhost:8080/"
        },
        "id": "eUwfGsN6tRtq",
        "outputId": "662a5e38-ca71-40b0-c137-d7bc006cd7b4"
      },
      "execution_count": 33,
      "outputs": [
        {
          "output_type": "execute_result",
          "data": {
            "text/plain": [
              "{'alpha': 1}"
            ]
          },
          "metadata": {},
          "execution_count": 33
        }
      ]
    },
    {
      "cell_type": "markdown",
      "source": [
        "# Plus_Adicional"
      ],
      "metadata": {
        "id": "AezieUHqCB0C"
      }
    },
    {
      "cell_type": "markdown",
      "source": [
        "## ElasticNet\n",
        "![](https://editor.analyticsvidhya.com/uploads/905183.jpg)"
      ],
      "metadata": {
        "id": "-8QuQyB38HJx"
      }
    },
    {
      "cell_type": "code",
      "source": [
        "from sklearn.linear_model import ElasticNet\n",
        "enr_model = ElasticNet()\n",
        "enr_model.fit(X_train, y_train)\n",
        "\n",
        "test_predictions = enr_model.predict(X_test)\n",
        "train_predictions = enr_model.predict(X_train)\n",
        "\n",
        "from sklearn.metrics import mean_squared_error\n",
        "train_rmse = np.sqrt(mean_squared_error(y_test, test_predictions))\n",
        "test_rmse = np.sqrt(mean_squared_error(y_train, train_predictions))\n",
        "print(\"train RMSE:\", train_rmse)\n",
        "print(\"test RMSE:\", test_rmse)\n"
      ],
      "metadata": {
        "id": "OtRYVy5a7wm4",
        "colab": {
          "base_uri": "https://localhost:8080/"
        },
        "outputId": "6c9f1f25-7e98-4702-fa3d-f641fd0a4fa1"
      },
      "execution_count": 36,
      "outputs": [
        {
          "output_type": "stream",
          "name": "stdout",
          "text": [
            "train RMSE: 1.5922933855390244\n",
            "test RMSE: 1.6854731596267127\n"
          ]
        }
      ]
    },
    {
      "cell_type": "markdown",
      "source": [
        "# **Conclusão**"
      ],
      "metadata": {
        "id": "i3FhrFnRA1dR"
      }
    },
    {
      "cell_type": "markdown",
      "source": [
        "Aprendemos sobre a Regularização L1 e L2 , que são **adicionadas à função de custo**.\n",
        "\n",
        "Podemos usar **GridSearchCV** ou os respectivos algoritmos de ajuste de hiperparâmetros do respectivo modelo de regressão para encontrar os hiperparâmetros ideais.\n",
        "\n",
        "Você pode tentar comparar o desempenho desses algoritmos em um conjunto de dados e verificar qual algoritmo teve melhor desempenho usando uma métrica de desempenho como Root Mean Square Error ou **RMSE**."
      ],
      "metadata": {
        "id": "w0KBQP4L_MM_"
      }
    },
    {
      "cell_type": "markdown",
      "source": [
        "# **FIM**"
      ],
      "metadata": {
        "id": "p2QSp6X0MUhv"
      }
    },
    {
      "cell_type": "markdown",
      "metadata": {
        "id": "xIlz7J43lhfH"
      },
      "source": [
        "## Links das Redes Sociais\n",
        "## [LinkTree](https://linktr.ee/cienciadosdados)\n",
        "\n",
        "![](https://cienciadosdados.com/images/thumbs/seta-laranja.png) \n",
        "\n"
      ]
    }
  ]
}